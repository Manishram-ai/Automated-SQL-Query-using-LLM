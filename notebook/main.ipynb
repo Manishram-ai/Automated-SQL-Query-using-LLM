{
 "cells": [
  {
   "cell_type": "code",
   "execution_count": 3,
   "metadata": {},
   "outputs": [],
   "source": [
    "from langchain.llms import GooglePalm"
   ]
  },
  {
   "cell_type": "code",
   "execution_count": 4,
   "metadata": {},
   "outputs": [],
   "source": [
    "llm = GooglePalm(google_api_key= \"__\") #     USE YOUR API  "
   ]
  },
  {
   "cell_type": "code",
   "execution_count": 15,
   "metadata": {},
   "outputs": [
    {
     "name": "stdout",
     "output_type": "stream",
     "text": [
      "Unexpected exception formatting exception. Falling back to standard exception\n"
     ]
    },
    {
     "name": "stderr",
     "output_type": "stream",
     "text": [
      "Traceback (most recent call last):\n",
      "  File \"c:\\Users\\manis\\OneDrive\\Documents\\Cis\\Lib\\site-packages\\IPython\\core\\interactiveshell.py\", line 3505, in run_code\n",
      "    exec(code_obj, self.user_global_ns, self.user_ns)\n",
      "  File \"C:\\Users\\manis\\AppData\\Local\\Temp\\ipykernel_17964\\512078880.py\", line 2, in <module>\n",
      "    from langchain_experimental.sql import SQLDatabaseChain\n",
      "  File \"c:\\Users\\manis\\OneDrive\\Documents\\Cis\\Lib\\site-packages\\langchain_experimental\\sql\\__init__.py\", line 2, in <module>\n",
      "    from langchain_experimental.sql.base import SQLDatabaseChain, SQLDatabaseSequentialChain\n",
      "  File \"c:\\Users\\manis\\OneDrive\\Documents\\Cis\\Lib\\site-packages\\langchain_experimental\\sql\\base.py\", line 10, in <module>\n",
      "    from langchain.chains.sql_database.prompt import DECIDER_PROMPT, PROMPT, SQL_PROMPTS\n",
      "  File \"c:\\Users\\manis\\OneDrive\\Documents\\Cis\\Lib\\site-packages\\langchain\\chains\\__init__.py\", line 52, in <module>\n",
      "    from langchain.chains.loading import load_chain\n",
      "  File \"c:\\Users\\manis\\OneDrive\\Documents\\Cis\\Lib\\site-packages\\langchain\\chains\\loading.py\", line 25, in <module>\n",
      "    from langchain.llms.loading import load_llm, load_llm_from_config\n",
      "  File \"c:\\Users\\manis\\OneDrive\\Documents\\Cis\\Lib\\site-packages\\langchain\\llms\\loading.py\", line 8, in <module>\n",
      "    from langchain.llms import type_to_cls_dict\n",
      "  File \"c:\\Users\\manis\\OneDrive\\Documents\\Cis\\Lib\\site-packages\\langchain\\llms\\__init__.py\", line 670, in __getattr__\n",
      "  File \"c:\\Users\\manis\\OneDrive\\Documents\\Cis\\Lib\\site-packages\\langchain\\llms\\__init__.py\", line 671, in <dictcomp>\n",
      "  File \"c:\\Users\\manis\\OneDrive\\Documents\\Cis\\Lib\\site-packages\\langchain\\llms\\__init__.py\", line 56, in _import_arcee\n",
      "    from langchain.llms.llamacpp import LlamaCpp\n",
      "        ^^^^^^^^^^^^^^^^^^^^^^^^^^^^^^^^^^^^^^\n",
      "ModuleNotFoundError: No module named 'langchain.llms.arcee'\n",
      "\n",
      "During handling of the above exception, another exception occurred:\n",
      "\n",
      "Traceback (most recent call last):\n",
      "  File \"c:\\Users\\manis\\OneDrive\\Documents\\Cis\\Lib\\site-packages\\IPython\\core\\interactiveshell.py\", line 2102, in showtraceback\n",
      "    stb = self.InteractiveTB.structured_traceback(\n",
      "          ^^^^^^^^^^^^^^^^^^^^^^^^^^^^^^^^^^^^^^^^\n",
      "  File \"c:\\Users\\manis\\OneDrive\\Documents\\Cis\\Lib\\site-packages\\IPython\\core\\ultratb.py\", line 1310, in structured_traceback\n",
      "    return FormattedTB.structured_traceback(\n",
      "           ^^^^^^^^^^^^^^^^^^^^^^^^^^^^^^^^^\n",
      "  File \"c:\\Users\\manis\\OneDrive\\Documents\\Cis\\Lib\\site-packages\\IPython\\core\\ultratb.py\", line 1199, in structured_traceback\n",
      "    return VerboseTB.structured_traceback(\n",
      "           ^^^^^^^^^^^^^^^^^^^^^^^^^^^^^^^\n",
      "  File \"c:\\Users\\manis\\OneDrive\\Documents\\Cis\\Lib\\site-packages\\IPython\\core\\ultratb.py\", line 1052, in structured_traceback\n",
      "    formatted_exception = self.format_exception_as_a_whole(etype, evalue, etb, number_of_lines_of_context,\n",
      "                          ^^^^^^^^^^^^^^^^^^^^^^^^^^^^^^^^^^^^^^^^^^^^^^^^^^^^^^^^^^^^^^^^^^^^^^^^^^^^^^^^\n",
      "  File \"c:\\Users\\manis\\OneDrive\\Documents\\Cis\\Lib\\site-packages\\IPython\\core\\ultratb.py\", line 978, in format_exception_as_a_whole\n",
      "    frames.append(self.format_record(record))\n",
      "                  ^^^^^^^^^^^^^^^^^^^^^^^^^^\n",
      "  File \"c:\\Users\\manis\\OneDrive\\Documents\\Cis\\Lib\\site-packages\\IPython\\core\\ultratb.py\", line 878, in format_record\n",
      "    frame_info.lines, Colors, self.has_colors, lvals\n",
      "    ^^^^^^^^^^^^^^^^\n",
      "  File \"c:\\Users\\manis\\OneDrive\\Documents\\Cis\\Lib\\site-packages\\IPython\\core\\ultratb.py\", line 712, in lines\n",
      "    return self._sd.lines\n",
      "           ^^^^^^^^^^^^^^\n",
      "  File \"c:\\Users\\manis\\OneDrive\\Documents\\Cis\\Lib\\site-packages\\stack_data\\utils.py\", line 145, in cached_property_wrapper\n",
      "    value = obj.__dict__[self.func.__name__] = self.func(obj)\n",
      "                                               ^^^^^^^^^^^^^^\n",
      "  File \"c:\\Users\\manis\\OneDrive\\Documents\\Cis\\Lib\\site-packages\\stack_data\\core.py\", line 698, in lines\n",
      "    pieces = self.included_pieces\n",
      "             ^^^^^^^^^^^^^^^^^^^^\n",
      "  File \"c:\\Users\\manis\\OneDrive\\Documents\\Cis\\Lib\\site-packages\\stack_data\\utils.py\", line 145, in cached_property_wrapper\n",
      "    value = obj.__dict__[self.func.__name__] = self.func(obj)\n",
      "                                               ^^^^^^^^^^^^^^\n",
      "  File \"c:\\Users\\manis\\OneDrive\\Documents\\Cis\\Lib\\site-packages\\stack_data\\core.py\", line 649, in included_pieces\n",
      "    pos = scope_pieces.index(self.executing_piece)\n",
      "                             ^^^^^^^^^^^^^^^^^^^^\n",
      "  File \"c:\\Users\\manis\\OneDrive\\Documents\\Cis\\Lib\\site-packages\\stack_data\\utils.py\", line 145, in cached_property_wrapper\n",
      "    value = obj.__dict__[self.func.__name__] = self.func(obj)\n",
      "                                               ^^^^^^^^^^^^^^\n",
      "  File \"c:\\Users\\manis\\OneDrive\\Documents\\Cis\\Lib\\site-packages\\stack_data\\core.py\", line 628, in executing_piece\n",
      "    return only(\n",
      "           ^^^^^\n",
      "  File \"c:\\Users\\manis\\OneDrive\\Documents\\Cis\\Lib\\site-packages\\executing\\executing.py\", line 164, in only\n",
      "    raise NotOneValueFound('Expected one value, found 0')\n",
      "executing.executing.NotOneValueFound: Expected one value, found 0\n"
     ]
    }
   ],
   "source": [
    "#from langchain.utilities import SQLDatabase\n",
    "from langchain_experimental.sql import SQLDatabaseChain "
   ]
  },
  {
   "cell_type": "code",
   "execution_count": null,
   "metadata": {},
   "outputs": [],
   "source": [
    "db_user = \"root\"\n",
    "db_password = \"__\" # USE YOUR PASSWORD  \n",
    "db_host = \"local_instance\"\n",
    "db_name = \"atliq_tshirts\"\n",
    "\n",
    "db = SQLDatabase.from_uri(f\"mysql+pymysql://{db_user}:{db_password}@{db_host}/{db_name}\",sample_rows_in_table_info=3)\n",
    "\n",
    "print(db.table_info)"
   ]
  },
  {
   "cell_type": "code",
   "execution_count": null,
   "metadata": {},
   "outputs": [],
   "source": []
  },
  {
   "cell_type": "code",
   "execution_count": null,
   "metadata": {},
   "outputs": [],
   "source": []
  }
 ],
 "metadata": {
  "kernelspec": {
   "display_name": "Python 3",
   "language": "python",
   "name": "python3"
  },
  "language_info": {
   "codemirror_mode": {
    "name": "ipython",
    "version": 3
   },
   "file_extension": ".py",
   "mimetype": "text/x-python",
   "name": "python",
   "nbconvert_exporter": "python",
   "pygments_lexer": "ipython3",
   "version": "3.11.4"
  }
 },
 "nbformat": 4,
 "nbformat_minor": 2
}
